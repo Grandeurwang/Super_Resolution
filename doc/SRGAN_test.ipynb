{
 "cells": [
  {
   "cell_type": "markdown",
   "metadata": {},
   "source": [
    "### 0. Preparation"
   ]
  },
  {
   "cell_type": "code",
   "execution_count": null,
   "metadata": {},
   "outputs": [],
   "source": [
    "import numpy as np\n",
    "import tensorlayer as tl\n",
    "import tensorflow as tf\n",
    "import os,sys\n",
    "sys.path.append('../lib/SRGAN/')\n",
    "from model import SRGAN_g"
   ]
  },
  {
   "cell_type": "code",
   "execution_count": null,
   "metadata": {},
   "outputs": [],
   "source": [
    "def mse(img1,img2):\n",
    "    return np.square(img1-img2).mean()\n",
    "\n",
    "def psnr(img1, img2):\n",
    "    '''\n",
    "    img1 and img2 are two 3-dimention images\n",
    "    '''\n",
    "    return 10*np.log10(255*255/(np.square(img1-img2).mean()))"
   ]
  },
  {
   "cell_type": "markdown",
   "metadata": {},
   "source": [
    "### 1. Prediction"
   ]
  },
  {
   "cell_type": "code",
   "execution_count": null,
   "metadata": {},
   "outputs": [],
   "source": [
    "# set the paths\n",
    "test_lr_path = '../data/train_set/LR'\n",
    "checkpoint_path = '../output/SRGAN2/checkpoint'\n",
    "save_path = '../output'\n",
    "\n",
    "####### set different start and end images #######\n",
    "start = 0\n",
    "end = 500\n",
    "# start = 500\n",
    "# end = 1000\n",
    "# start = 1000\n",
    "# end = 1500"
   ]
  },
  {
   "cell_type": "code",
   "execution_count": null,
   "metadata": {},
   "outputs": [],
   "source": [
    "def predict(test_lr_path, checkpoint_path, save_path, start, end):\n",
    "\n",
    "    ## create folders to save result images\n",
    "    save_dir = os.path.join(save_path, 'test_gen')\n",
    "    tl.files.exists_or_mkdir(save_dir)\n",
    "\n",
    "    ###======PRE-LOAD DATA======###\n",
    "    test_lr_img_list = sorted(tl.files.load_file_list(path=test_lr_path, regx='.*.jpg', printable=False))\n",
    "    \n",
    "    test_lr_img_list = test_lr_img_list[start:end]\n",
    "    \n",
    "    test_lr_imgs = tl.vis.read_images(test_lr_img_list, path=test_lr_path)\n",
    "\n",
    "    ###======DEFINE MODEL======###\n",
    "\n",
    "    test_lr_imgs = [(img / 127.5)-1 for img in test_lr_imgs] # rescale to ［－1, 1]\n",
    "\n",
    "    test_image = tf.placeholder('float32', [1, None, None, 3], name='input_image')\n",
    "\n",
    "    net_g = SRGAN_g(test_image, is_train=False, reuse=False)\n",
    "\n",
    "    ###======RESTORE G======###\n",
    "    sess = tf.Session(config=tf.ConfigProto(allow_soft_placement=True, log_device_placement=False))\n",
    "    sess.run(tf.global_variables_initializer())\n",
    "    tl.files.load_and_assign_npz(sess=sess, name=os.path.join(checkpoint_path, 'g_srgan.npz'), network=net_g)\n",
    "\n",
    "    ###======EVALUATION======###\n",
    "    for i in range(len(test_lr_img_list)):\n",
    "        img = test_lr_imgs[i]\n",
    "        out = sess.run(net_g.outputs, {test_image: [img]})\n",
    "        out = (out[0]+1)*127.5\n",
    "        tl.vis.save_image(out.astype(np.uint8), os.path.join(save_dir, '{}'.format(test_lr_img_list[i])))\n",
    "        if (i != 0) and (i % 10 == 0):\n",
    "            print('saving %d images, ok' % i)\n",
    "    print(\"finish\")"
   ]
  },
  {
   "cell_type": "code",
   "execution_count": null,
   "metadata": {},
   "outputs": [],
   "source": [
    "# prediction\n",
    "tf.reset_default_graph()\n",
    "predict(test_lr_path=test_lr_path, checkpoint_path=checkpoint_path, save_path=save_path, start=start, end=end)"
   ]
  },
  {
   "cell_type": "markdown",
   "metadata": {},
   "source": [
    "### 2. Calculate MSE"
   ]
  },
  {
   "cell_type": "code",
   "execution_count": null,
   "metadata": {},
   "outputs": [],
   "source": [
    "# set the paths\n",
    "test_hr_img_path = '../data/test_set/HR'\n",
    "gen_hr_img_path = os.path.join(save_path, 'test_gen')"
   ]
  },
  {
   "cell_type": "code",
   "execution_count": null,
   "metadata": {},
   "outputs": [],
   "source": [
    "# calculate mse\n",
    "test_hr_list = sorted(tl.files.load_file_list(path=test_hr_img_path, regx='.*.jpg', printable=False))\n",
    "test_hr_list = test_hr_list[start:end]\n",
    "test_gen_list = sorted(tl.files.load_file_list(path=gen_hr_img_path, regx='.*.jpg', printable=False))\n",
    "\n",
    "test_hr_imgs = tl.vis.read_images(test_hr_list, path=test_hr_img_path)\n",
    "test_gen_imgs = tl.vis.read_images(test_gen_list, path=gen_hr_img_path)\n",
    "\n",
    "# mse\n",
    "np.mean([mse(img1,img2) for img1, img2 in zip(test_hr_imgs, test_gen_imgs)])"
   ]
  }
 ],
 "metadata": {
  "kernelspec": {
   "display_name": "Python 3",
   "language": "python",
   "name": "python3"
  },
  "language_info": {
   "codemirror_mode": {
    "name": "ipython",
    "version": 3
   },
   "file_extension": ".py",
   "mimetype": "text/x-python",
   "name": "python",
   "nbconvert_exporter": "python",
   "pygments_lexer": "ipython3",
   "version": "3.6.8"
  }
 },
 "nbformat": 4,
 "nbformat_minor": 2
}
