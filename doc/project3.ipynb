{
  "nbformat": 4,
  "nbformat_minor": 0,
  "metadata": {
    "colab": {
      "name": "project3",
      "version": "0.3.2",
      "provenance": [],
      "collapsed_sections": []
    },
    "kernelspec": {
      "name": "python3",
      "display_name": "Python 3"
    }
  },
  "cells": [
    {
      "metadata": {
        "id": "tNbVxAnkl39I",
        "colab_type": "text"
      },
      "cell_type": "markdown",
      "source": [
        "**Step 1**: Setting up Google Colab"
      ]
    },
    {
      "metadata": {
        "id": "qapiEOGbkayw",
        "colab_type": "code",
        "outputId": "ecbca75a-2264-4265-a925-b67688b4518d",
        "colab": {
          "base_uri": "https://localhost:8080/",
          "height": 207
        }
      },
      "cell_type": "code",
      "source": [
        "!pip install PyDrive"
      ],
      "execution_count": 3,
      "outputs": [
        {
          "output_type": "stream",
          "text": [
            "Requirement already satisfied: PyDrive in /usr/local/lib/python3.6/dist-packages (1.3.1)\n",
            "Requirement already satisfied: google-api-python-client>=1.2 in /usr/local/lib/python3.6/dist-packages (from PyDrive) (1.6.7)\n",
            "Requirement already satisfied: PyYAML>=3.0 in /usr/local/lib/python3.6/dist-packages (from PyDrive) (3.13)\n",
            "Requirement already satisfied: oauth2client>=4.0.0 in /usr/local/lib/python3.6/dist-packages (from PyDrive) (4.1.3)\n",
            "Requirement already satisfied: httplib2<1dev,>=0.9.2 in /usr/local/lib/python3.6/dist-packages (from google-api-python-client>=1.2->PyDrive) (0.11.3)\n",
            "Requirement already satisfied: uritemplate<4dev,>=3.0.0 in /usr/local/lib/python3.6/dist-packages (from google-api-python-client>=1.2->PyDrive) (3.0.0)\n",
            "Requirement already satisfied: six<2dev,>=1.6.1 in /usr/local/lib/python3.6/dist-packages (from google-api-python-client>=1.2->PyDrive) (1.11.0)\n",
            "Requirement already satisfied: pyasn1>=0.1.7 in /usr/local/lib/python3.6/dist-packages (from oauth2client>=4.0.0->PyDrive) (0.4.5)\n",
            "Requirement already satisfied: pyasn1-modules>=0.0.5 in /usr/local/lib/python3.6/dist-packages (from oauth2client>=4.0.0->PyDrive) (0.2.4)\n",
            "Requirement already satisfied: rsa>=3.1.4 in /usr/local/lib/python3.6/dist-packages (from oauth2client>=4.0.0->PyDrive) (4.0)\n"
          ],
          "name": "stdout"
        }
      ]
    },
    {
      "metadata": {
        "id": "hUvJb3o6kig4",
        "colab_type": "code",
        "colab": {}
      },
      "cell_type": "code",
      "source": [
        "import os\n",
        "from pydrive.auth import GoogleAuth\n",
        "from pydrive.drive import GoogleDrive\n",
        "from google.colab import auth\n",
        "from oauth2client.client import GoogleCredentials"
      ],
      "execution_count": 0,
      "outputs": []
    },
    {
      "metadata": {
        "id": "XCChEDSKkmhF",
        "colab_type": "code",
        "colab": {}
      },
      "cell_type": "code",
      "source": [
        "auth.authenticate_user()\n",
        "gauth = GoogleAuth()\n",
        "gauth.credentials = GoogleCredentials.get_application_default()\n",
        "drive = GoogleDrive(gauth)"
      ],
      "execution_count": 0,
      "outputs": []
    },
    {
      "metadata": {
        "id": "FaEl7_3Jk4G-",
        "colab_type": "code",
        "colab": {}
      },
      "cell_type": "code",
      "source": [
        "#download the dataset\n",
        "download = drive.CreateFile({'id': '11nuXjhsfyAuZUfKGIiB3_aG7T4fZQQd_'})"
      ],
      "execution_count": 0,
      "outputs": []
    },
    {
      "metadata": {
        "id": "buP0ysODk_LS",
        "colab_type": "code",
        "colab": {
          "base_uri": "https://localhost:8080/",
          "height": 136
        },
        "outputId": "24c5edc2-9428-4c46-f2ce-a74f4e4376a4"
      },
      "cell_type": "code",
      "source": [
        "download.GetContentFile('train_set.zip')\n",
        "!unzip train_set.zip"
      ],
      "execution_count": 7,
      "outputs": [
        {
          "output_type": "stream",
          "text": [
            "Archive:  train_set.zip\n",
            "replace train_set/.DS_Store? [y]es, [n]o, [A]ll, [N]one, [r]ename: n\n",
            "replace __MACOSX/train_set/._.DS_Store? [y]es, [n]o, [A]ll, [N]one, [r]ename: o\n",
            "error:  invalid response [o]\n",
            "replace __MACOSX/train_set/._.DS_Store? [y]es, [n]o, [A]ll, [N]one, [r]ename: n\n",
            "replace train_set/label.csv? [y]es, [n]o, [A]ll, [N]one, [r]ename: n\n",
            "replace __MACOSX/train_set/._label.csv? [y]es, [n]o, [A]ll, [N]one, [r]ename: "
          ],
          "name": "stdout"
        }
      ]
    },
    {
      "metadata": {
        "id": "engzfp1XnLL8",
        "colab_type": "text"
      },
      "cell_type": "markdown",
      "source": [
        "**Step 2** : Import the libraries we’ll need during our model building phase."
      ]
    },
    {
      "metadata": {
        "id": "072B9tERlBNa",
        "colab_type": "code",
        "colab": {}
      },
      "cell_type": "code",
      "source": [
        "import keras\n",
        "from keras.models import Sequential\n",
        "from keras.layers import Dense, Dropout, Flatten\n",
        "from keras.layers import Conv2D, MaxPooling2D\n",
        "from keras.utils import to_categorical\n",
        "from keras.preprocessing import image\n",
        "import numpy as np\n",
        "import pandas as pd\n",
        "import matplotlib.pyplot as plt\n",
        "from sklearn.model_selection import train_test_split\n",
        "from keras.utils import to_categorical\n",
        "from tqdm import tqdm"
      ],
      "execution_count": 0,
      "outputs": []
    },
    {
      "metadata": {
        "id": "ebtJV1o9nSVr",
        "colab_type": "text"
      },
      "cell_type": "markdown",
      "source": [
        "**Step 3**: Load and reprocess the training image/label dataset"
      ]
    },
    {
      "metadata": {
        "id": "TnQCScfdlESW",
        "colab_type": "code",
        "colab": {}
      },
      "cell_type": "code",
      "source": [
        "train = pd.read_csv('train_set/label.csv')"
      ],
      "execution_count": 0,
      "outputs": []
    },
    {
      "metadata": {
        "id": "NBs7ZfU6lHeA",
        "colab_type": "code",
        "outputId": "bdbc4c6a-2ccf-4c65-f290-5cf89e7b2fb5",
        "colab": {
          "base_uri": "https://localhost:8080/",
          "height": 34
        }
      },
      "cell_type": "code",
      "source": [
        "# We have RGB images, we should set grayscale as False\n",
        "train_image = []\n",
        "for i in tqdm(range(train.shape[0])):\n",
        "    img = image.load_img('train_set/HR/'+'img_'+train['Image'][i], target_size=(28,28,3), grayscale=False)\n",
        "    img = image.img_to_array(img)\n",
        "    img = img/255\n",
        "    train_image.append(img)\n",
        "X = np.array(train_image)"
      ],
      "execution_count": 6,
      "outputs": [
        {
          "output_type": "stream",
          "text": [
            "100%|██████████| 1500/1500 [00:10<00:00, 142.37it/s]\n"
          ],
          "name": "stderr"
        }
      ]
    },
    {
      "metadata": {
        "id": "wIz7-dG2nmRh",
        "colab_type": "text"
      },
      "cell_type": "markdown",
      "source": [
        "As it is a multi-class classification problem (3 classes), we will one-hot encode the target variable."
      ]
    },
    {
      "metadata": {
        "id": "LmV7JNwwlzlt",
        "colab_type": "code",
        "colab": {}
      },
      "cell_type": "code",
      "source": [
        "y=train['Label'].values\n",
        "y = to_categorical(y)"
      ],
      "execution_count": 0,
      "outputs": []
    },
    {
      "metadata": {
        "id": "yTOrWVWvnsNw",
        "colab_type": "text"
      },
      "cell_type": "markdown",
      "source": [
        "**Step 4**: Creating a validation set from the training data."
      ]
    },
    {
      "metadata": {
        "id": "yVZZzwvxl2CN",
        "colab_type": "code",
        "colab": {}
      },
      "cell_type": "code",
      "source": [
        "X_train, X_test, y_train, y_test = train_test_split(X, y, random_state=42, test_size=0.2)"
      ],
      "execution_count": 0,
      "outputs": []
    },
    {
      "metadata": {
        "id": "NNCRn6L8qE9E",
        "colab_type": "text"
      },
      "cell_type": "markdown",
      "source": [
        "**VGG19**\n",
        "A common and highly effective approach to deep learning on small image datasets is to use a pretrained network. A pretrained network is a saved network that was previously trained on a large dataset, typically on a large-scale image-classification task. If this original dataset is large enough and general enough, then the spatial hierarchy of features learned by the pretrained network can effectively act as a generic model of the visual world, and hence its features can prove useful for many different computer-vision problems, even though these new problems may involve completely different classes than those of the original task."
      ]
    },
    {
      "metadata": {
        "id": "6ThBYTTBpnkF",
        "colab_type": "code",
        "colab": {
          "base_uri": "https://localhost:8080/",
          "height": 34
        },
        "outputId": "707ee5af-6ea2-47d2-a680-eaa6c6f21b89"
      },
      "cell_type": "code",
      "source": [
        "# Resize the images as 150 * 150 as required by VGG19\n",
        "from keras.preprocessing.image import img_to_array, array_to_img\n",
        "\n",
        "X_train = np.asarray([img_to_array(array_to_img(im, scale=False).resize((150,150))) for im in X_train])\n",
        "X_test = np.asarray([img_to_array(array_to_img(im, scale=False).resize((150,150))) for im in X_test])\n",
        "\n",
        "# Display the new shape\n",
        "X_train.shape, X_test.shape"
      ],
      "execution_count": 30,
      "outputs": [
        {
          "output_type": "execute_result",
          "data": {
            "text/plain": [
              "((1200, 150, 150, 3), (300, 150, 150, 3))"
            ]
          },
          "metadata": {
            "tags": []
          },
          "execution_count": 30
        }
      ]
    },
    {
      "metadata": {
        "id": "0igQjn6Yp1mC",
        "colab_type": "code",
        "colab": {}
      },
      "cell_type": "code",
      "source": [
        "# Normalise the data and change data type\n",
        "X_train = X_train.astype('float32')\n",
        "X_train /= 255\n",
        "\n",
        "X_test = X_test.astype('float32')\n",
        "X_test /= 255"
      ],
      "execution_count": 0,
      "outputs": []
    },
    {
      "metadata": {
        "id": "46Kb9HEQp97R",
        "colab_type": "code",
        "colab": {
          "base_uri": "https://localhost:8080/",
          "height": 34
        },
        "outputId": "e347935a-3ee0-4a5d-8322-e087fd0323cd"
      },
      "cell_type": "code",
      "source": [
        "from sklearn.model_selection import train_test_split\n",
        "\n",
        "# Here I split original training data to sub-training (80%) and validation data (20%)\n",
        "X_train1, X_val, y_train1, y_val = train_test_split(X_train, y_train, test_size=0.2, random_state=13)\n",
        "\n",
        "# Check the data size whether it is as per tensorflow and VGG19 requirement\n",
        "X_train1.shape, X_val.shape, y_train1.shape, y_val.shape"
      ],
      "execution_count": 33,
      "outputs": [
        {
          "output_type": "execute_result",
          "data": {
            "text/plain": [
              "((960, 150, 150, 3), (240, 150, 150, 3), (960, 3), (240, 3))"
            ]
          },
          "metadata": {
            "tags": []
          },
          "execution_count": 33
        }
      ]
    },
    {
      "metadata": {
        "id": "YqYjDboYqBc_",
        "colab_type": "code",
        "colab": {
          "base_uri": "https://localhost:8080/",
          "height": 139
        },
        "outputId": "196ac846-7caa-4c3c-dc64-860aee486dbc"
      },
      "cell_type": "code",
      "source": [
        "from keras.applications import VGG19\n",
        "\n",
        "# Create the base model of VGG19\n",
        "vgg19 = VGG19(weights='imagenet', include_top=False, input_shape = (150, 150, 3), classes = 3)"
      ],
      "execution_count": 12,
      "outputs": [
        {
          "output_type": "stream",
          "text": [
            "WARNING:tensorflow:From /usr/local/lib/python3.6/dist-packages/tensorflow/python/framework/op_def_library.py:263: colocate_with (from tensorflow.python.framework.ops) is deprecated and will be removed in a future version.\n",
            "Instructions for updating:\n",
            "Colocations handled automatically by placer.\n"
          ],
          "name": "stdout"
        },
        {
          "output_type": "stream",
          "text": [
            "WARNING:tensorflow:From /usr/local/lib/python3.6/dist-packages/tensorflow/python/framework/op_def_library.py:263: colocate_with (from tensorflow.python.framework.ops) is deprecated and will be removed in a future version.\n",
            "Instructions for updating:\n",
            "Colocations handled automatically by placer.\n"
          ],
          "name": "stderr"
        }
      ]
    },
    {
      "metadata": {
        "id": "RuB7cGg3qLMp",
        "colab_type": "code",
        "colab": {
          "base_uri": "https://localhost:8080/",
          "height": 884
        },
        "outputId": "eb62e8f1-dc30-4570-8306-73c0d5a9598a"
      },
      "cell_type": "code",
      "source": [
        "vgg19.summary()"
      ],
      "execution_count": 13,
      "outputs": [
        {
          "output_type": "stream",
          "text": [
            "_________________________________________________________________\n",
            "Layer (type)                 Output Shape              Param #   \n",
            "=================================================================\n",
            "input_1 (InputLayer)         (None, 150, 150, 3)       0         \n",
            "_________________________________________________________________\n",
            "block1_conv1 (Conv2D)        (None, 150, 150, 64)      1792      \n",
            "_________________________________________________________________\n",
            "block1_conv2 (Conv2D)        (None, 150, 150, 64)      36928     \n",
            "_________________________________________________________________\n",
            "block1_pool (MaxPooling2D)   (None, 75, 75, 64)        0         \n",
            "_________________________________________________________________\n",
            "block2_conv1 (Conv2D)        (None, 75, 75, 128)       73856     \n",
            "_________________________________________________________________\n",
            "block2_conv2 (Conv2D)        (None, 75, 75, 128)       147584    \n",
            "_________________________________________________________________\n",
            "block2_pool (MaxPooling2D)   (None, 37, 37, 128)       0         \n",
            "_________________________________________________________________\n",
            "block3_conv1 (Conv2D)        (None, 37, 37, 256)       295168    \n",
            "_________________________________________________________________\n",
            "block3_conv2 (Conv2D)        (None, 37, 37, 256)       590080    \n",
            "_________________________________________________________________\n",
            "block3_conv3 (Conv2D)        (None, 37, 37, 256)       590080    \n",
            "_________________________________________________________________\n",
            "block3_conv4 (Conv2D)        (None, 37, 37, 256)       590080    \n",
            "_________________________________________________________________\n",
            "block3_pool (MaxPooling2D)   (None, 18, 18, 256)       0         \n",
            "_________________________________________________________________\n",
            "block4_conv1 (Conv2D)        (None, 18, 18, 512)       1180160   \n",
            "_________________________________________________________________\n",
            "block4_conv2 (Conv2D)        (None, 18, 18, 512)       2359808   \n",
            "_________________________________________________________________\n",
            "block4_conv3 (Conv2D)        (None, 18, 18, 512)       2359808   \n",
            "_________________________________________________________________\n",
            "block4_conv4 (Conv2D)        (None, 18, 18, 512)       2359808   \n",
            "_________________________________________________________________\n",
            "block4_pool (MaxPooling2D)   (None, 9, 9, 512)         0         \n",
            "_________________________________________________________________\n",
            "block5_conv1 (Conv2D)        (None, 9, 9, 512)         2359808   \n",
            "_________________________________________________________________\n",
            "block5_conv2 (Conv2D)        (None, 9, 9, 512)         2359808   \n",
            "_________________________________________________________________\n",
            "block5_conv3 (Conv2D)        (None, 9, 9, 512)         2359808   \n",
            "_________________________________________________________________\n",
            "block5_conv4 (Conv2D)        (None, 9, 9, 512)         2359808   \n",
            "_________________________________________________________________\n",
            "block5_pool (MaxPooling2D)   (None, 4, 4, 512)         0         \n",
            "=================================================================\n",
            "Total params: 20,024,384\n",
            "Trainable params: 20,024,384\n",
            "Non-trainable params: 0\n",
            "_________________________________________________________________\n"
          ],
          "name": "stdout"
        }
      ]
    },
    {
      "metadata": {
        "id": "lHdeLTVj01bU",
        "colab_type": "text"
      },
      "cell_type": "markdown",
      "source": [
        "**step 5**: Extract features."
      ]
    },
    {
      "metadata": {
        "id": "rVK_4N83qSyb",
        "colab_type": "text"
      },
      "cell_type": "markdown",
      "source": [
        "**Feature Extraction**\n",
        "Feature extraction consists of using the representations learned by a previous network to extract interesting features from new samples. These features are then run through a new classifier, which is trained from scratch.\n",
        "\n",
        "CNNs used for image classification comprise two parts: they start with a series of pooling and convolution layers, and they end with a densely-connected classifier. The first part is called the \"convolutional base\" of the model. In the case of convnets, \"feature extraction\" will simply consist of taking the convolutional base of a previously-trained network, running the new data through it, and training a new classifier on top of the output."
      ]
    },
    {
      "metadata": {
        "id": "b_PCFtb-qOsu",
        "colab_type": "code",
        "colab": {}
      },
      "cell_type": "code",
      "source": [
        "from keras.applications.vgg19 import preprocess_input\n",
        "\n",
        "# Preprocessing the input \n",
        "X_train1 = preprocess_input(X_train1)\n",
        "X_val = preprocess_input(X_val)\n",
        "X_test = preprocess_input(X_test)"
      ],
      "execution_count": 0,
      "outputs": []
    },
    {
      "metadata": {
        "id": "DkUXkZ1wqXSM",
        "colab_type": "code",
        "colab": {
          "base_uri": "https://localhost:8080/",
          "height": 68
        },
        "outputId": "ff6a160d-1cd3-4ed7-f3d4-2d061baf3f54"
      },
      "cell_type": "code",
      "source": [
        "# Extracting features\n",
        "train_features = vgg19.predict(np.array(X_train1),verbose=1)\n",
        "test_features = vgg19.predict(np.array(X_test),verbose=1)\n",
        "val_features = vgg19.predict(np.array(X_val),verbose=1)"
      ],
      "execution_count": 35,
      "outputs": [
        {
          "output_type": "stream",
          "text": [
            "960/960 [==============================] - 286s 298ms/step\n",
            "300/300 [==============================] - 88s 292ms/step\n",
            "240/240 [==============================] - 70s 292ms/step\n"
          ],
          "name": "stdout"
        }
      ]
    },
    {
      "metadata": {
        "id": "2394rW4jsVmb",
        "colab_type": "code",
        "colab": {}
      },
      "cell_type": "code",
      "source": [
        "# Saving the features so that they can be used for future\n",
        "np.savez(\"train_features\", train_features, y_train)\n",
        "np.savez(\"test_features\", test_features, y_test)\n",
        "np.savez(\"val_features\", val_features, y_val)"
      ],
      "execution_count": 0,
      "outputs": []
    },
    {
      "metadata": {
        "id": "FteFkFBVsYkx",
        "colab_type": "code",
        "colab": {
          "base_uri": "https://localhost:8080/",
          "height": 68
        },
        "outputId": "a5f0b155-c1af-4bce-edb3-f9d553dec15d"
      },
      "cell_type": "code",
      "source": [
        "# Current shape of features\n",
        "print(train_features.shape, \"\\n\",  test_features.shape, \"\\n\", val_features.shape)"
      ],
      "execution_count": 37,
      "outputs": [
        {
          "output_type": "stream",
          "text": [
            "(960, 4, 4, 512) \n",
            " (300, 4, 4, 512) \n",
            " (240, 4, 4, 512)\n"
          ],
          "name": "stdout"
        }
      ]
    },
    {
      "metadata": {
        "id": "cFxZeWfSsa3w",
        "colab_type": "code",
        "colab": {}
      },
      "cell_type": "code",
      "source": [
        "# Flatten extracted features\n",
        "train_features = np.reshape(train_features, (960, 4*4*512))\n",
        "test_features = np.reshape(test_features, (300, 4*4*512))\n",
        "val_features = np.reshape(val_features, (240, 4*4*512))"
      ],
      "execution_count": 0,
      "outputs": []
    },
    {
      "metadata": {
        "id": "chqU8ekM1E_S",
        "colab_type": "text"
      },
      "cell_type": "markdown",
      "source": [
        "**Step 6**: Define the model structure."
      ]
    },
    {
      "metadata": {
        "id": "mrjWCeCuqaZ_",
        "colab_type": "code",
        "colab": {}
      },
      "cell_type": "code",
      "source": [
        "from keras.layers import Dense, Dropout\n",
        "from keras.models import Model\n",
        "from keras import models\n",
        "from keras import layers\n",
        "from keras import optimizers\n",
        "\n",
        "# Add Dense and Dropout layers on top of VGG19 pre-trained\n",
        "model = models.Sequential()\n",
        "model.add(layers.Dense(512, activation='relu', input_dim=4 * 4 * 512))\n",
        "model.add(layers.Dropout(0.5))\n",
        "model.add(layers.Dense(3, activation=\"softmax\"))"
      ],
      "execution_count": 0,
      "outputs": []
    },
    {
      "metadata": {
        "id": "IiWUaHTlqdrM",
        "colab_type": "code",
        "colab": {}
      },
      "cell_type": "code",
      "source": [
        "import keras\n",
        "\n",
        "# Compile the model\n",
        "model.compile(loss=keras.losses.categorical_crossentropy,\n",
        "              optimizer=keras.optimizers.Adam(),\n",
        "              metrics=['accuracy'])"
      ],
      "execution_count": 0,
      "outputs": []
    },
    {
      "metadata": {
        "id": "3q77ouAKskRF",
        "colab_type": "code",
        "colab": {
          "base_uri": "https://localhost:8080/",
          "height": 374
        },
        "outputId": "b0c4ea2a-a78b-428a-b6c1-49a4b770ea4f"
      },
      "cell_type": "code",
      "source": [
        "# Train the the model\n",
        "history = model.fit(train_features, y_train1,\n",
        "          epochs=10,\n",
        "          validation_data=(val_features, y_val))"
      ],
      "execution_count": 43,
      "outputs": [
        {
          "output_type": "stream",
          "text": [
            "Train on 960 samples, validate on 240 samples\n",
            "Epoch 1/10\n",
            "960/960 [==============================] - 3s 3ms/step - loss: 2.3581 - acc: 0.3531 - val_loss: 1.3169 - val_acc: 0.3292\n",
            "Epoch 2/10\n",
            "960/960 [==============================] - 2s 2ms/step - loss: 1.2581 - acc: 0.3292 - val_loss: 1.1429 - val_acc: 0.3292\n",
            "Epoch 3/10\n",
            "960/960 [==============================] - 2s 2ms/step - loss: 1.1192 - acc: 0.3323 - val_loss: 1.1071 - val_acc: 0.3292\n",
            "Epoch 4/10\n",
            "960/960 [==============================] - 2s 2ms/step - loss: 1.1141 - acc: 0.3104 - val_loss: 1.0979 - val_acc: 0.3625\n",
            "Epoch 5/10\n",
            "960/960 [==============================] - 2s 2ms/step - loss: 1.1002 - acc: 0.3250 - val_loss: 1.0986 - val_acc: 0.3292\n",
            "Epoch 6/10\n",
            "960/960 [==============================] - 2s 2ms/step - loss: 1.0985 - acc: 0.3385 - val_loss: 1.0990 - val_acc: 0.3292\n",
            "Epoch 7/10\n",
            "960/960 [==============================] - 2s 3ms/step - loss: 1.0983 - acc: 0.3344 - val_loss: 1.0992 - val_acc: 0.3083\n",
            "Epoch 8/10\n",
            "960/960 [==============================] - 2s 2ms/step - loss: 1.0981 - acc: 0.3531 - val_loss: 1.0995 - val_acc: 0.3083\n",
            "Epoch 9/10\n",
            "960/960 [==============================] - 2s 2ms/step - loss: 1.0980 - acc: 0.3531 - val_loss: 1.0998 - val_acc: 0.3083\n",
            "Epoch 10/10\n",
            "960/960 [==============================] - 2s 2ms/step - loss: 1.0978 - acc: 0.3531 - val_loss: 1.1000 - val_acc: 0.3083\n"
          ],
          "name": "stdout"
        }
      ]
    },
    {
      "metadata": {
        "id": "RaV67v6Osm6G",
        "colab_type": "code",
        "colab": {
          "base_uri": "https://localhost:8080/",
          "height": 51
        },
        "outputId": "57384648-1c9d-40af-d491-0d44f6add2fa"
      },
      "cell_type": "code",
      "source": [
        "score = model.evaluate(test_features, y_test, verbose=0)\n",
        "print('Test loss:', score[0])\n",
        "print('Test accuracy:', score[1])"
      ],
      "execution_count": 44,
      "outputs": [
        {
          "output_type": "stream",
          "text": [
            "Test loss: 1.0968531942367554\n",
            "Test accuracy: 0.3666666662693024\n"
          ],
          "name": "stdout"
        }
      ]
    },
    {
      "metadata": {
        "id": "OTXJRGpPn02O",
        "colab_type": "text"
      },
      "cell_type": "markdown",
      "source": [
        "**Training CNN Models**\n",
        "\n",
        "I will create a variety of different CNN-based classification models to evaluate performances on our training dataset. I will be building our model using the Keras framework. Here are the list of models I will try out and compare their results:\n",
        "\n",
        "1.   CNN with 1 Convolutional Layer\n",
        "2.   CNN with 3 Convolutional Layer"
      ]
    },
    {
      "metadata": {
        "id": "KVI8X9Vg1qaq",
        "colab_type": "code",
        "colab": {}
      },
      "cell_type": "code",
      "source": [
        "X_train, X_test, y_train, y_test = train_test_split(X, y, random_state=42, test_size=0.2)"
      ],
      "execution_count": 0,
      "outputs": []
    },
    {
      "metadata": {
        "id": "JapGKQKG1sf0",
        "colab_type": "text"
      },
      "cell_type": "markdown",
      "source": [
        "CNN with 1 Convolutional Layer"
      ]
    },
    {
      "metadata": {
        "id": "u6WgvpCN3_PH",
        "colab_type": "code",
        "outputId": "ad6337f6-9901-4a2b-f00c-a5697eb99759",
        "colab": {
          "base_uri": "https://localhost:8080/",
          "height": 340
        }
      },
      "cell_type": "code",
      "source": [
        "cnn1 = Sequential()\n",
        "cnn1.add(Conv2D(32, kernel_size=(3, 3), activation='relu', input_shape=(28,28,3)))\n",
        "cnn1.add(MaxPooling2D(pool_size=(2, 2)))\n",
        "cnn1.add(Dropout(0.2))\n",
        "\n",
        "cnn1.add(Flatten())\n",
        "\n",
        "cnn1.add(Dense(128, activation='relu'))\n",
        "cnn1.add(Dense(3, activation='softmax'))\n",
        "cnn1.compile(loss=keras.losses.categorical_crossentropy,\n",
        "              optimizer=keras.optimizers.Adam(),\n",
        "              metrics=['accuracy'])\n",
        "cnn1.summary()"
      ],
      "execution_count": 0,
      "outputs": [
        {
          "output_type": "stream",
          "text": [
            "_________________________________________________________________\n",
            "Layer (type)                 Output Shape              Param #   \n",
            "=================================================================\n",
            "conv2d_29 (Conv2D)           (None, 26, 26, 32)        896       \n",
            "_________________________________________________________________\n",
            "max_pooling2d_17 (MaxPooling (None, 13, 13, 32)        0         \n",
            "_________________________________________________________________\n",
            "dropout_31 (Dropout)         (None, 13, 13, 32)        0         \n",
            "_________________________________________________________________\n",
            "flatten_14 (Flatten)         (None, 5408)              0         \n",
            "_________________________________________________________________\n",
            "dense_27 (Dense)             (None, 128)               692352    \n",
            "_________________________________________________________________\n",
            "dense_28 (Dense)             (None, 3)                 387       \n",
            "=================================================================\n",
            "Total params: 693,635\n",
            "Trainable params: 693,635\n",
            "Non-trainable params: 0\n",
            "_________________________________________________________________\n"
          ],
          "name": "stdout"
        }
      ]
    },
    {
      "metadata": {
        "id": "VI2AAAuy4bpm",
        "colab_type": "code",
        "outputId": "4d6a75db-9719-4118-fbc2-6b0235ef7c64",
        "colab": {
          "base_uri": "https://localhost:8080/",
          "height": 394
        }
      },
      "cell_type": "code",
      "source": [
        "history1 = cnn1.fit(X_train, y_train, epochs=10, validation_data=(X_test, y_test))"
      ],
      "execution_count": 0,
      "outputs": [
        {
          "output_type": "stream",
          "text": [
            "Train on 1200 samples, validate on 300 samples\n",
            "Epoch 1/10\n",
            "1200/1200 [==============================] - 2s 2ms/step - loss: 0.8086 - acc: 0.6492 - val_loss: 0.7413 - val_acc: 0.7267\n",
            "Epoch 2/10\n",
            "1200/1200 [==============================] - 1s 1ms/step - loss: 0.5277 - acc: 0.8083 - val_loss: 0.5995 - val_acc: 0.7633\n",
            "Epoch 3/10\n",
            "1200/1200 [==============================] - 1s 1ms/step - loss: 0.3677 - acc: 0.8808 - val_loss: 0.5954 - val_acc: 0.7767\n",
            "Epoch 4/10\n",
            "1200/1200 [==============================] - 1s 1ms/step - loss: 0.2923 - acc: 0.8983 - val_loss: 0.5564 - val_acc: 0.8000\n",
            "Epoch 5/10\n",
            "1200/1200 [==============================] - 1s 993us/step - loss: 0.2179 - acc: 0.9367 - val_loss: 0.5456 - val_acc: 0.7933\n",
            "Epoch 6/10\n",
            "1200/1200 [==============================] - 1s 1ms/step - loss: 0.1673 - acc: 0.9475 - val_loss: 0.6301 - val_acc: 0.7967\n",
            "Epoch 7/10\n",
            "1200/1200 [==============================] - 1s 1ms/step - loss: 0.1564 - acc: 0.9533 - val_loss: 0.7238 - val_acc: 0.7400\n",
            "Epoch 8/10\n",
            "1200/1200 [==============================] - 1s 997us/step - loss: 0.1202 - acc: 0.9700 - val_loss: 0.5337 - val_acc: 0.8133\n",
            "Epoch 9/10\n",
            "1200/1200 [==============================] - 1s 1ms/step - loss: 0.0937 - acc: 0.9758 - val_loss: 0.5758 - val_acc: 0.8000\n",
            "Epoch 10/10\n",
            "1200/1200 [==============================] - 1s 1ms/step - loss: 0.0817 - acc: 0.9817 - val_loss: 0.5554 - val_acc: 0.8133\n"
          ],
          "name": "stdout"
        }
      ]
    },
    {
      "metadata": {
        "id": "pSR-9xEb4cCK",
        "colab_type": "code",
        "outputId": "2192d02a-e16f-4c6c-8d37-40a8fca8c7d0",
        "colab": {
          "base_uri": "https://localhost:8080/",
          "height": 51
        }
      },
      "cell_type": "code",
      "source": [
        "score1 = cnn1.evaluate(X_test, y_test, verbose=0)\n",
        "print('Test loss:', score1[0])\n",
        "print('Test accuracy:', score1[1])"
      ],
      "execution_count": 0,
      "outputs": [
        {
          "output_type": "stream",
          "text": [
            "Test loss: 0.5554029087225596\n",
            "Test accuracy: 0.813333334128062\n"
          ],
          "name": "stdout"
        }
      ]
    },
    {
      "metadata": {
        "id": "vR_LvjAe10AG",
        "colab_type": "text"
      },
      "cell_type": "markdown",
      "source": [
        "CNN with 3 Convolutional Layer"
      ]
    },
    {
      "metadata": {
        "id": "xBQULgOp5rX8",
        "colab_type": "code",
        "outputId": "64a57833-b04d-4381-b107-7212ee61e97d",
        "colab": {
          "base_uri": "https://localhost:8080/",
          "height": 544
        }
      },
      "cell_type": "code",
      "source": [
        "cnn3 = Sequential()\n",
        "cnn3.add(Conv2D(32, kernel_size=(3, 3), activation='relu', input_shape=(28,28,3)))\n",
        "cnn3.add(MaxPooling2D((2, 2)))\n",
        "cnn3.add(Dropout(0.25))\n",
        "\n",
        "cnn3.add(Conv2D(64, kernel_size=(3, 3), activation='relu'))\n",
        "cnn3.add(MaxPooling2D(pool_size=(2, 2)))\n",
        "cnn3.add(Dropout(0.25))\n",
        "\n",
        "cnn3.add(Conv2D(128, kernel_size=(3, 3), activation='relu'))\n",
        "cnn3.add(Dropout(0.4))\n",
        "\n",
        "cnn3.add(Flatten())\n",
        "\n",
        "cnn3.add(Dense(128, activation='relu'))\n",
        "cnn3.add(Dropout(0.3))\n",
        "cnn3.add(Dense(3, activation='softmax'))\n",
        "cnn3.compile(loss=keras.losses.categorical_crossentropy,\n",
        "              optimizer=keras.optimizers.Adam(),\n",
        "              metrics=['accuracy'])\n",
        "cnn3.summary()"
      ],
      "execution_count": 0,
      "outputs": [
        {
          "output_type": "stream",
          "text": [
            "_________________________________________________________________\n",
            "Layer (type)                 Output Shape              Param #   \n",
            "=================================================================\n",
            "conv2d_30 (Conv2D)           (None, 26, 26, 32)        896       \n",
            "_________________________________________________________________\n",
            "max_pooling2d_18 (MaxPooling (None, 13, 13, 32)        0         \n",
            "_________________________________________________________________\n",
            "dropout_32 (Dropout)         (None, 13, 13, 32)        0         \n",
            "_________________________________________________________________\n",
            "conv2d_31 (Conv2D)           (None, 11, 11, 64)        18496     \n",
            "_________________________________________________________________\n",
            "max_pooling2d_19 (MaxPooling (None, 5, 5, 64)          0         \n",
            "_________________________________________________________________\n",
            "dropout_33 (Dropout)         (None, 5, 5, 64)          0         \n",
            "_________________________________________________________________\n",
            "conv2d_32 (Conv2D)           (None, 3, 3, 128)         73856     \n",
            "_________________________________________________________________\n",
            "dropout_34 (Dropout)         (None, 3, 3, 128)         0         \n",
            "_________________________________________________________________\n",
            "flatten_15 (Flatten)         (None, 1152)              0         \n",
            "_________________________________________________________________\n",
            "dense_29 (Dense)             (None, 128)               147584    \n",
            "_________________________________________________________________\n",
            "dropout_35 (Dropout)         (None, 128)               0         \n",
            "_________________________________________________________________\n",
            "dense_30 (Dense)             (None, 3)                 387       \n",
            "=================================================================\n",
            "Total params: 241,219\n",
            "Trainable params: 241,219\n",
            "Non-trainable params: 0\n",
            "_________________________________________________________________\n"
          ],
          "name": "stdout"
        }
      ]
    },
    {
      "metadata": {
        "id": "-4rnm3cB6o9a",
        "colab_type": "code",
        "outputId": "ac475e01-2c1d-408a-cd9b-0f167447ddc2",
        "colab": {
          "base_uri": "https://localhost:8080/",
          "height": 394
        }
      },
      "cell_type": "code",
      "source": [
        "history3 = cnn3.fit(X_train, y_train, epochs=10, validation_data=(X_test, y_test))"
      ],
      "execution_count": 0,
      "outputs": [
        {
          "output_type": "stream",
          "text": [
            "Train on 1200 samples, validate on 300 samples\n",
            "Epoch 1/10\n",
            "1200/1200 [==============================] - 3s 2ms/step - loss: 1.0118 - acc: 0.4650 - val_loss: 0.8055 - val_acc: 0.6700\n",
            "Epoch 2/10\n",
            "1200/1200 [==============================] - 2s 1ms/step - loss: 0.8014 - acc: 0.6533 - val_loss: 0.6855 - val_acc: 0.7233\n",
            "Epoch 3/10\n",
            "1200/1200 [==============================] - 2s 1ms/step - loss: 0.6792 - acc: 0.7208 - val_loss: 0.6766 - val_acc: 0.7167\n",
            "Epoch 4/10\n",
            "1200/1200 [==============================] - 2s 1ms/step - loss: 0.5697 - acc: 0.7675 - val_loss: 0.5842 - val_acc: 0.7800\n",
            "Epoch 5/10\n",
            "1200/1200 [==============================] - 2s 1ms/step - loss: 0.5181 - acc: 0.7950 - val_loss: 0.5495 - val_acc: 0.8067\n",
            "Epoch 6/10\n",
            "1200/1200 [==============================] - 2s 1ms/step - loss: 0.4529 - acc: 0.8342 - val_loss: 0.5464 - val_acc: 0.7800\n",
            "Epoch 7/10\n",
            "1200/1200 [==============================] - 2s 2ms/step - loss: 0.4099 - acc: 0.8375 - val_loss: 0.4620 - val_acc: 0.8333\n",
            "Epoch 8/10\n",
            "1200/1200 [==============================] - 2s 2ms/step - loss: 0.4181 - acc: 0.8350 - val_loss: 0.5634 - val_acc: 0.7867\n",
            "Epoch 9/10\n",
            "1200/1200 [==============================] - 2s 2ms/step - loss: 0.3950 - acc: 0.8450 - val_loss: 0.5446 - val_acc: 0.8167\n",
            "Epoch 10/10\n",
            "1200/1200 [==============================] - 2s 2ms/step - loss: 0.3527 - acc: 0.8675 - val_loss: 0.4305 - val_acc: 0.8567\n"
          ],
          "name": "stdout"
        }
      ]
    },
    {
      "metadata": {
        "id": "RTryY-m06V4G",
        "colab_type": "code",
        "outputId": "d4e18bf5-fd52-4f9e-d3a0-3d2342ff4227",
        "colab": {
          "base_uri": "https://localhost:8080/",
          "height": 51
        }
      },
      "cell_type": "code",
      "source": [
        "score3 = cnn3.evaluate(X_test, y_test, verbose=0)\n",
        "print('Test loss:', score3[0])\n",
        "print('Test accuracy:', score3[1])"
      ],
      "execution_count": 0,
      "outputs": [
        {
          "output_type": "stream",
          "text": [
            "Test loss: 0.4305433416366577\n",
            "Test accuracy: 0.8566666674613953\n"
          ],
          "name": "stdout"
        }
      ]
    },
    {
      "metadata": {
        "id": "hHK20B7n13mD",
        "colab_type": "text"
      },
      "cell_type": "markdown",
      "source": [
        "**step 7**: Visualize the results"
      ]
    },
    {
      "metadata": {
        "id": "aAnrCWBO9SdN",
        "colab_type": "code",
        "outputId": "3e13ace5-2210-4e71-eb3c-ab97e52ef162",
        "colab": {
          "base_uri": "https://localhost:8080/",
          "height": 543
        }
      },
      "cell_type": "code",
      "source": [
        "import matplotlib.pyplot as plt\n",
        "%matplotlib inline\n",
        "\n",
        "accuracy = history3.history['acc']\n",
        "val_accuracy = history3.history['val_acc']\n",
        "loss = history3.history['loss']\n",
        "val_loss = history3.history['val_loss']\n",
        "epochs = range(len(accuracy))\n",
        "\n",
        "plt.plot(epochs, accuracy, 'bo', label='Training accuracy')\n",
        "plt.plot(epochs, val_accuracy, 'b', label='Validation accuracy')\n",
        "plt.title('Training and validation accuracy')\n",
        "plt.legend()\n",
        "plt.figure()\n",
        "\n",
        "plt.plot(epochs, loss, 'bo', label='Training loss')\n",
        "plt.plot(epochs, val_loss, 'b', label='Validation loss')\n",
        "plt.title('Training and validation loss')\n",
        "plt.legend()\n",
        "plt.show()"
      ],
      "execution_count": 0,
      "outputs": [
        {
          "output_type": "display_data",
          "data": {
            "image/png": "[encoded data removed]",
            "text/plain": [
              "<Figure size 432x288 with 1 Axes>"
            ]
          },
          "metadata": {
            "tags": []
          }
        },
        {
          "output_type": "display_data",
          "data": {
            "image/png": "[encoded data removed]",
            "text/plain": [
              "<Figure size 432x288 with 1 Axes>"
            ]
          },
          "metadata": {
            "tags": []
          }
        }
      ]
    },
    {
      "metadata": {
        "id": "KwJZUjFm2Fq9",
        "colab_type": "text"
      },
      "cell_type": "markdown",
      "source": [
        "**Step 8: **Classification Report\n"
      ]
    },
    {
      "metadata": {
        "colab_type": "code",
        "id": "YORe-kdX9JZu",
        "colab": {}
      },
      "cell_type": "code",
      "source": [
        "test_data = pd.read_csv('train_set/label.csv')"
      ],
      "execution_count": 0,
      "outputs": []
    },
    {
      "metadata": {
        "id": "y-GHt929zNE8",
        "colab_type": "code",
        "outputId": "5e881ec0-d6d9-4537-9d92-13b1da60c6e1",
        "colab": {
          "base_uri": "https://localhost:8080/",
          "height": 34
        }
      },
      "cell_type": "code",
      "source": [
        "test_image = []\n",
        "for i in tqdm(range(test.shape[0])):\n",
        "    img = image.load_img('train_set/LR/'+'img_'+test_data['Image'][i], target_size=(28,28,3), grayscale=False)\n",
        "    img = image.img_to_array(img)\n",
        "    img = img/255\n",
        "    test_image.append(img)\n",
        "test = np.array(test_image)"
      ],
      "execution_count": 0,
      "outputs": [
        {
          "output_type": "stream",
          "text": [
            "100%|██████████| 1500/1500 [00:02<00:00, 590.09it/s]\n"
          ],
          "name": "stderr"
        }
      ]
    },
    {
      "metadata": {
        "id": "Bk93-DOQzfzs",
        "colab_type": "code",
        "colab": {}
      },
      "cell_type": "code",
      "source": [
        "# making predictions\n",
        "prediction = cnn3.predict_classes(test)"
      ],
      "execution_count": 0,
      "outputs": []
    },
    {
      "metadata": {
        "id": "RS0o6d-tDAkD",
        "colab_type": "code",
        "colab": {}
      },
      "cell_type": "code",
      "source": [
        "# get the indices to be plotted\n",
        "y_true = test_data.iloc[:, 2]\n",
        "correct = np.nonzero(prediction==y_true)[0]\n",
        "incorrect = np.nonzero(prediction!=y_true)[0]"
      ],
      "execution_count": 0,
      "outputs": []
    },
    {
      "metadata": {
        "id": "CXHg3jfIFvs9",
        "colab_type": "code",
        "outputId": "64402f2c-e522-49b3-c48c-21cbc33fda80",
        "colab": {
          "base_uri": "https://localhost:8080/",
          "height": 187
        }
      },
      "cell_type": "code",
      "source": [
        "from sklearn.metrics import classification_report\n",
        "target_names = [\"Class {}\".format(i) for i in range(3)]\n",
        "print(classification_report(y_true, prediction, target_names=target_names))"
      ],
      "execution_count": 0,
      "outputs": [
        {
          "output_type": "stream",
          "text": [
            "              precision    recall  f1-score   support\n",
            "\n",
            "     Class 0       0.93      0.91      0.92       500\n",
            "     Class 1       0.91      0.87      0.89       500\n",
            "     Class 2       0.84      0.90      0.87       500\n",
            "\n",
            "   micro avg       0.89      0.89      0.89      1500\n",
            "   macro avg       0.89      0.89      0.89      1500\n",
            "weighted avg       0.89      0.89      0.89      1500\n",
            "\n"
          ],
          "name": "stdout"
        }
      ]
    },
    {
      "metadata": {
        "id": "AkhF3ISqLylT",
        "colab_type": "code",
        "outputId": "83ab57db-f8ed-4ce9-fb2a-24bbec02c256",
        "colab": {
          "base_uri": "https://localhost:8080/",
          "height": 297
        }
      },
      "cell_type": "code",
      "source": [
        "for i, c in enumerate(correct[:9]):\n",
        "    plt.subplot(3,3,i+1)\n",
        "    plt.imshow(test[c].reshape(28,28,3), cmap='viridis', interpolation='none')\n",
        "    plt.title(\"Predicted {}, Class {}\".format(prediction[c], y_true[c]))\n",
        "    plt.tight_layout()"
      ],
      "execution_count": 0,
      "outputs": [
        {
          "output_type": "display_data",
          "data": {
            "image/png": "[encoded data removed]",
            "text/plain": [
              "<Figure size 432x288 with 8 Axes>"
            ]
          },
          "metadata": {
            "tags": []
          }
        }
      ]
    },
    {
      "metadata": {
        "id": "c6_z4Y7oHyBK",
        "colab_type": "code",
        "outputId": "33d5209f-6822-4f2b-9851-eaf1aeb59dfa",
        "colab": {
          "base_uri": "https://localhost:8080/",
          "height": 297
        }
      },
      "cell_type": "code",
      "source": [
        "for i, ic in enumerate(incorrect[0:9]):\n",
        "    plt.subplot(3,3,i+1)\n",
        "    plt.imshow(test[ic].reshape(28,28,3), cmap='viridis', interpolation='none')\n",
        "    plt.title(\"Predicted {}, Class {}\".format(prediction[ic], y_true[ic]))\n",
        "    plt.tight_layout()"
      ],
      "execution_count": 0,
      "outputs": [
        {
          "output_type": "display_data",
          "data": {
            "image/png": "[encoded data removed]",
            "text/plain": [
              "<Figure size 432x288 with 8 Axes>"
            ]
          },
          "metadata": {
            "tags": []
          }
        }
      ]
    },
    {
      "metadata": {
        "id": "BoX-LLKxzlNF",
        "colab_type": "code",
        "outputId": "b60b529e-0c92-4d6f-f49b-34d28473137c",
        "colab": {
          "base_uri": "https://localhost:8080/",
          "height": 204
        }
      },
      "cell_type": "code",
      "source": [
        "# creating submission file\n",
        "sample = pd.read_csv('label.csv')\n",
        "sample['predict_label'] = prediction\n",
        "print(sample[:10])\n",
        "sample.to_csv('sample.csv', header=True, index=False)\n",
        "from google.colab import files\n",
        "files.download(\"sample.csv\")"
      ],
      "execution_count": 0,
      "outputs": [
        {
          "output_type": "stream",
          "text": [
            "   Unnamed: 0     Image  Label  predict_label\n",
            "0           0  0001.jpg      0              0\n",
            "1           1  0002.jpg      0              0\n",
            "2           2  0003.jpg      0              0\n",
            "3           3  0004.jpg      0              0\n",
            "4           4  0005.jpg      0              0\n",
            "5           5  0006.jpg      0              0\n",
            "6           6  0007.jpg      0              0\n",
            "7           7  0008.jpg      0              0\n",
            "8           8  0009.jpg      0              0\n",
            "9           9  0010.jpg      0              0\n"
          ],
          "name": "stdout"
        }
      ]
    }
  ]
}